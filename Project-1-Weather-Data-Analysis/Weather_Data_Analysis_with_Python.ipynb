{
  "nbformat": 4,
  "nbformat_minor": 0,
  "metadata": {
    "colab": {
      "provenance": [],
      "authorship_tag": "ABX9TyOSxSW1u6KMQJC7drBd5bJl",
      "include_colab_link": true
    },
    "kernelspec": {
      "name": "python3",
      "display_name": "Python 3"
    },
    "language_info": {
      "name": "python"
    }
  },
  "cells": [
    {
      "cell_type": "markdown",
      "metadata": {
        "id": "view-in-github",
        "colab_type": "text"
      },
      "source": [
        "<a href=\"https://colab.research.google.com/github/dadavidson/101-Labs-Cisco-CCNA/blob/main/Project-1-Weather-Data-Analysis/Weather_Data_Analysis_with_Python.ipynb\" target=\"_parent\"><img src=\"https://colab.research.google.com/assets/colab-badge.svg\" alt=\"Open In Colab\"/></a>"
      ]
    },
    {
      "cell_type": "markdown",
      "source": [],
      "metadata": {
        "id": "O9n6_shJIGfc"
      }
    },
    {
      "cell_type": "markdown",
      "source": [
        "# The Weather Dataset\n",
        "***\n",
        "Here,\n",
        "The Weather Dataset is a time-series data set with per-hour information about the weather conditions at a particular location. It records Temperature, Dew Point Temperature, Relative Humidity, Wind Speed, Visibility, Pressure, and Conditions.\n",
        "\n",
        "\n",
        "This data is available as a CSV file. We are going to analyze this data set using the Pandas library."
      ],
      "metadata": {
        "id": "kqoRzTrjo8Kl"
      }
    },
    {
      "cell_type": "code",
      "source": [
        "url = 'https://raw.githubusercontent.com/dadavidson/Data-Science-Projects/refs/heads/main/Project-1-Weather-Data-Analysis/Project%201%20-%20Weather%20Dataset.csv'"
      ],
      "metadata": {
        "id": "vCjtIGEOGJaf"
      },
      "execution_count": null,
      "outputs": []
    },
    {
      "cell_type": "code",
      "source": [
        "import pandas as pd"
      ],
      "metadata": {
        "trusted": true,
        "execution": {
          "iopub.status.busy": "2025-07-30T15:57:19.751059Z",
          "iopub.execute_input": "2025-07-30T15:57:19.751381Z",
          "iopub.status.idle": "2025-07-30T15:57:19.756005Z",
          "shell.execute_reply.started": "2025-07-30T15:57:19.751355Z",
          "shell.execute_reply": "2025-07-30T15:57:19.755008Z"
        },
        "id": "eGjReXR-o8Km"
      },
      "outputs": [],
      "execution_count": null
    },
    {
      "cell_type": "code",
      "source": [
        "df = pd.read_csv(url)"
      ],
      "metadata": {
        "id": "VoBhik7WH3-j"
      },
      "execution_count": null,
      "outputs": []
    },
    {
      "cell_type": "code",
      "source": [
        "df"
      ],
      "metadata": {
        "id": "Vbhkf9MXH9MK"
      },
      "execution_count": null,
      "outputs": []
    },
    {
      "cell_type": "markdown",
      "source": [
        "# How to Analyze DataFrames ?"
      ],
      "metadata": {
        "id": "-ABFd6oGITnT"
      }
    },
    {
      "cell_type": "markdown",
      "source": [
        "# .head()\n",
        "It shows the first N rows in the data (by default, N=5)."
      ],
      "metadata": {
        "id": "B7LU6F-DITnU"
      }
    },
    {
      "cell_type": "code",
      "source": [
        "df.head()"
      ],
      "metadata": {
        "id": "qC_ZaAaGI15w"
      },
      "execution_count": null,
      "outputs": []
    },
    {
      "cell_type": "markdown",
      "source": [
        "# .shape\n",
        "\n",
        "It shows the total no. of rows and no. of columns of the dataframe"
      ],
      "metadata": {
        "id": "FsCO1dmXITnU"
      }
    },
    {
      "cell_type": "code",
      "source": [
        "df.shape"
      ],
      "metadata": {
        "id": "nTKShJ95J8_v"
      },
      "execution_count": null,
      "outputs": []
    }
  ]
}